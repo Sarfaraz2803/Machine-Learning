{
 "cells": [
  {
   "cell_type": "code",
   "execution_count": 1,
   "id": "dfda5132",
   "metadata": {},
   "outputs": [
    {
     "name": "stdout",
     "output_type": "stream",
     "text": [
      "Collecting openai==0.28\n",
      "  Downloading openai-0.28.0-py3-none-any.whl.metadata (13 kB)\n",
      "Requirement already satisfied: requests>=2.20 in c:\\users\\dell\\anaconda3\\lib\\site-packages (from openai==0.28) (2.31.0)\n",
      "Requirement already satisfied: tqdm in c:\\users\\dell\\anaconda3\\lib\\site-packages (from openai==0.28) (4.66.4)\n",
      "Requirement already satisfied: aiohttp in c:\\users\\dell\\anaconda3\\lib\\site-packages (from openai==0.28) (3.9.3)\n",
      "Requirement already satisfied: charset-normalizer<4,>=2 in c:\\users\\dell\\anaconda3\\lib\\site-packages (from requests>=2.20->openai==0.28) (2.0.4)\n",
      "Requirement already satisfied: idna<4,>=2.5 in c:\\users\\dell\\anaconda3\\lib\\site-packages (from requests>=2.20->openai==0.28) (3.4)\n",
      "Requirement already satisfied: urllib3<3,>=1.21.1 in c:\\users\\dell\\anaconda3\\lib\\site-packages (from requests>=2.20->openai==0.28) (2.0.7)\n",
      "Requirement already satisfied: certifi>=2017.4.17 in c:\\users\\dell\\anaconda3\\lib\\site-packages (from requests>=2.20->openai==0.28) (2022.12.7)\n",
      "Requirement already satisfied: aiosignal>=1.1.2 in c:\\users\\dell\\anaconda3\\lib\\site-packages (from aiohttp->openai==0.28) (1.2.0)\n",
      "Requirement already satisfied: attrs>=17.3.0 in c:\\users\\dell\\anaconda3\\lib\\site-packages (from aiohttp->openai==0.28) (23.1.0)\n",
      "Requirement already satisfied: frozenlist>=1.1.1 in c:\\users\\dell\\anaconda3\\lib\\site-packages (from aiohttp->openai==0.28) (1.4.0)\n",
      "Requirement already satisfied: multidict<7.0,>=4.5 in c:\\users\\dell\\anaconda3\\lib\\site-packages (from aiohttp->openai==0.28) (6.0.4)\n",
      "Requirement already satisfied: yarl<2.0,>=1.0 in c:\\users\\dell\\anaconda3\\lib\\site-packages (from aiohttp->openai==0.28) (1.9.3)\n",
      "Requirement already satisfied: colorama in c:\\users\\dell\\anaconda3\\lib\\site-packages (from tqdm->openai==0.28) (0.4.6)\n",
      "Downloading openai-0.28.0-py3-none-any.whl (76 kB)\n",
      "   ---------------------------------------- 0.0/76.5 kB ? eta -:--:--\n",
      "   ---------------------------------------- 0.0/76.5 kB ? eta -:--:--\n",
      "   ---------------- ----------------------- 30.7/76.5 kB 640.0 kB/s eta 0:00:01\n",
      "   --------------------- ------------------ 41.0/76.5 kB 487.6 kB/s eta 0:00:01\n",
      "   --------------------- ------------------ 41.0/76.5 kB 487.6 kB/s eta 0:00:01\n",
      "   --------------------- ------------------ 41.0/76.5 kB 487.6 kB/s eta 0:00:01\n",
      "   --------------------- ------------------ 41.0/76.5 kB 487.6 kB/s eta 0:00:01\n",
      "   -------------------------------- ------- 61.4/76.5 kB 192.5 kB/s eta 0:00:01\n",
      "   ---------------------------------------- 76.5/76.5 kB 211.8 kB/s eta 0:00:00\n",
      "Installing collected packages: openai\n",
      "  Attempting uninstall: openai\n",
      "    Found existing installation: openai 1.30.3\n",
      "    Uninstalling openai-1.30.3:\n",
      "      Successfully uninstalled openai-1.30.3\n",
      "Successfully installed openai-0.28.0\n",
      "Note: you may need to restart the kernel to use updated packages.\n"
     ]
    },
    {
     "name": "stderr",
     "output_type": "stream",
     "text": [
      "ERROR: pip's dependency resolver does not currently take into account all the packages that are installed. This behaviour is the source of the following dependency conflicts.\n",
      "llama-index-agent-openai 0.2.5 requires openai>=1.14.0, but you have openai 0.28.0 which is incompatible.\n",
      "llama-index-core 0.10.40 requires openai>=1.1.0, but you have openai 0.28.0 which is incompatible.\n",
      "llama-index-legacy 0.9.48 requires openai>=1.1.0, but you have openai 0.28.0 which is incompatible.\n"
     ]
    }
   ],
   "source": [
    "pip install openai==0.28"
   ]
  },
  {
   "cell_type": "code",
   "execution_count": 15,
   "id": "ccc0440a",
   "metadata": {},
   "outputs": [
    {
     "name": "stdin",
     "output_type": "stream",
     "text": [
      "Enter Video topic:  Election\n"
     ]
    },
    {
     "name": "stderr",
     "output_type": "stream",
     "text": [
      "C:\\Users\\DELL\\anaconda3\\Lib\\site-packages\\langchain_community\\llms\\openai.py:249: UserWarning: You are trying to use a chat model. This way of initializing it is no longer supported. Instead, please use: `from langchain_community.chat_models import ChatOpenAI`\n",
      "  warnings.warn(\n",
      "C:\\Users\\DELL\\anaconda3\\Lib\\site-packages\\langchain_community\\llms\\openai.py:1072: UserWarning: You are trying to use a chat model. This way of initializing it is no longer supported. Instead, please use: `from langchain_community.chat_models import ChatOpenAI`\n",
      "  warnings.warn(\n"
     ]
    },
    {
     "name": "stdout",
     "output_type": "stream",
     "text": [
      "\n",
      "content:\n",
      "The election process is a crucial part of our democracy, but many people may not fully understand how it works. In order to educate and inform the public, we have created a series of videos that break down the various aspects of the election process.\n",
      "\n",
      "First, we explain the different stages of the election process, including primaries, caucuses, the Electoral College, and the general election. This video will provide a comprehensive overview of how candidates are chosen and ultimately elected to office.\n",
      "\n",
      "Next, we research and create candidate profiles for each of the candidates running for office. These videos will highlight the backgrounds, policies, and key positions on important issues for each candidate, giving viewers a better understanding of who they are and what they stand for.\n",
      "\n",
      "In addition, we provide voter education videos that explain how to register to vote, where and when to vote, and what to expect at the polling place. These videos aim to increase voter turnout by making the voting process more accessible and understandable for all.\n",
      "\n",
      "We also analyze polling data and political analysis to make predictions about the outcome of the election, including which states are likely to be key battlegrounds. By discussing potential outcomes, viewers can better understand the stakes of the election.\n",
      "\n",
      "Furthermore, we break down and analyze campaign ads from the candidates, discussing their messaging, effectiveness, and potential impact on voters. Understanding the tactics used in campaign ads can help viewers make more informed decisions on election day.\n",
      "\n",
      "We also explore voter turnout and the factors that influence it, as well as strategies to increase participation in the election process. By understanding the barriers to voting, we can work towards creating a more inclusive and representative democracy.\n",
      "\n",
      "Additionally, we discuss any controversies or scandals that have arisen during the campaign season and analyze how they may impact the election results. It is important to address these issues and understand their potential implications for the outcome of the election.\n",
      "\n",
      "On election night, we provide live updates and analysis as the results come in, discussing key races, trends, and potential outcomes. This coverage aims to keep viewers informed and engaged as the election unfolds.\n",
      "\n",
      "After the election, we create videos analyzing the results, including which candidates won, voter turnout, key issues that influenced the outcome, and what the results mean for the future. This post-election analysis is crucial for understanding the impact of the election on our country.\n",
      "\n",
      "Finally, we emphasize the importance of voting and civic engagement in a series of videos that encourage viewers to participate in the democratic process. By stressing the significance of voting, we hope to inspire more people to take part in shaping the future of our country.\n",
      "\n",
      "Overall, our video series aims to educate, inform, and engage viewers in the election process, empowering them to make informed decisions and participate in our democracy.\n",
      "\n",
      "content search History:\n",
      "Human: 1. Explaining the election process: Create a video that breaks down how elections work, including primaries, caucuses, the Electoral College, and the general election.\n",
      "\n",
      "2. Candidate profiles: Research and create videos that profile each of the candidates running for office, highlighting their backgrounds, policies, and key positions on important issues.\n",
      "\n",
      "3. Voter education: Create videos that educate viewers on how to register to vote, where and when to vote, and what to expect at the polling place.\n",
      "\n",
      "4. Election predictions: Discuss polling data and political analysis to make predictions about the outcome of the election, including which states are likely to be key battlegrounds.\n",
      "\n",
      "5. Analyzing campaign ads: Break down and analyze campaign ads from the candidates, discussing their messaging, effectiveness, and potential impact on voters.\n",
      "\n",
      "6. Voter turnout: Explore the factors that influence voter turnout and discuss strategies to increase participation in the election process.\n",
      "\n",
      "7. Election controversies: Discuss any controversies or scandals that have arisen during the campaign season, and analyze how they may impact the election results.\n",
      "\n",
      "8. Election night coverage: Provide live updates and analysis on election night as the results come in, discussing key races, trends, and potential outcomes.\n",
      "\n",
      "9. Post-election analysis: After the election, create videos analyzing the results, including which candidates won, voter turnout, key issues that influenced the outcome, and what the results mean for the future.\n",
      "\n",
      "10. The importance of voting: Create videos that emphasize the importance of voting and civic engagement, encouraging viewers to participate in the democratic process.\n",
      "AI: The election process is a crucial part of our democracy, but many people may not fully understand how it works. In order to educate and inform the public, we have created a series of videos that break down the various aspects of the election process.\n",
      "\n",
      "First, we explain the different stages of the election process, including primaries, caucuses, the Electoral College, and the general election. This video will provide a comprehensive overview of how candidates are chosen and ultimately elected to office.\n",
      "\n",
      "Next, we research and create candidate profiles for each of the candidates running for office. These videos will highlight the backgrounds, policies, and key positions on important issues for each candidate, giving viewers a better understanding of who they are and what they stand for.\n",
      "\n",
      "In addition, we provide voter education videos that explain how to register to vote, where and when to vote, and what to expect at the polling place. These videos aim to increase voter turnout by making the voting process more accessible and understandable for all.\n",
      "\n",
      "We also analyze polling data and political analysis to make predictions about the outcome of the election, including which states are likely to be key battlegrounds. By discussing potential outcomes, viewers can better understand the stakes of the election.\n",
      "\n",
      "Furthermore, we break down and analyze campaign ads from the candidates, discussing their messaging, effectiveness, and potential impact on voters. Understanding the tactics used in campaign ads can help viewers make more informed decisions on election day.\n",
      "\n",
      "We also explore voter turnout and the factors that influence it, as well as strategies to increase participation in the election process. By understanding the barriers to voting, we can work towards creating a more inclusive and representative democracy.\n",
      "\n",
      "Additionally, we discuss any controversies or scandals that have arisen during the campaign season and analyze how they may impact the election results. It is important to address these issues and understand their potential implications for the outcome of the election.\n",
      "\n",
      "On election night, we provide live updates and analysis as the results come in, discussing key races, trends, and potential outcomes. This coverage aims to keep viewers informed and engaged as the election unfolds.\n",
      "\n",
      "After the election, we create videos analyzing the results, including which candidates won, voter turnout, key issues that influenced the outcome, and what the results mean for the future. This post-election analysis is crucial for understanding the impact of the election on our country.\n",
      "\n",
      "Finally, we emphasize the importance of voting and civic engagement in a series of videos that encourage viewers to participate in the democratic process. By stressing the significance of voting, we hope to inspire more people to take part in shaping the future of our country.\n",
      "\n",
      "Overall, our video series aims to educate, inform, and engage viewers in the election process, empowering them to make informed decisions and participate in our democracy.\n"
     ]
    }
   ],
   "source": [
    "import os\n",
    "from langchain.llms import OpenAI\n",
    "from langchain.prompts import PromptTemplate\n",
    "from langchain.chains import LLMChain\n",
    "from langchain.memory import ConversationBufferMemory\n",
    "\n",
    "\n",
    "os.environ['OPENAI_API_KEY'] = ''\n",
    "\n",
    "prompt = input(\"Enter Video topic: \")\n",
    "\n",
    "title_template = PromptTemplate(\n",
    "    input_variables=['topic'],\n",
    "    template='write me a  Content to Make youtube Videos about {topic}'\n",
    ")\n",
    "\n",
    "\n",
    "content_memory = ConversationBufferMemory(input_key='topic', memory_key='chat_history')\n",
    "\n",
    "\n",
    "llm = OpenAI(model_name=\"gpt-3.5-turbo\", temperature=0.7)\n",
    "\n",
    "content_chain = LLMChain(llm=llm, prompt=content_template, verbose=False, output_key='script', memory=content_memory)\n",
    "\n",
    "\n",
    "if prompt:\n",
    "\n",
    "    content = content_chain.run(topic=title)\n",
    "\n",
    "    print(\"\\ncontent:\")\n",
    "    print(content)\n",
    "  \n",
    "    print(\"\\ncontent search History:\")\n",
    "    print(content_memory.buffer)\n"
   ]
  },
  {
   "cell_type": "code",
   "execution_count": null,
   "id": "38a240ee",
   "metadata": {},
   "outputs": [],
   "source": []
  }
 ],
 "metadata": {
  "kernelspec": {
   "display_name": "Python 3 (ipykernel)",
   "language": "python",
   "name": "python3"
  },
  "language_info": {
   "codemirror_mode": {
    "name": "ipython",
    "version": 3
   },
   "file_extension": ".py",
   "mimetype": "text/x-python",
   "name": "python",
   "nbconvert_exporter": "python",
   "pygments_lexer": "ipython3",
   "version": "3.11.7"
  }
 },
 "nbformat": 4,
 "nbformat_minor": 5
}
