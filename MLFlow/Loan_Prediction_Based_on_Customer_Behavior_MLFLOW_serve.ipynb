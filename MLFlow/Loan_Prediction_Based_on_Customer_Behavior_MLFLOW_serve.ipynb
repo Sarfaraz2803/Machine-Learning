{
 "cells": [
  {
   "cell_type": "code",
   "execution_count": 1,
   "id": "44c70f3f-3118-4b4a-8135-174def3f21a6",
   "metadata": {},
   "outputs": [],
   "source": [
    "import os\n",
    "os.environ['GIT_PYTHON_REFRESH']='quiet'\n",
    "os.environ['MLFLOW_TRACKING_URI']=\"file:///Users\\\\DELL\\\\Loan\""
   ]
  },
  {
   "cell_type": "code",
   "execution_count": 2,
   "id": "92c4e2eb-c59f-4e0c-b11c-f84d20aca567",
   "metadata": {},
   "outputs": [
    {
     "name": "stdout",
     "output_type": "stream",
     "text": [
      "                             run_id       experiment_id    status  \\\n",
      "0  7071dccbac1d406b93ac8052684fe394  309784749353829887  FINISHED   \n",
      "\n",
      "                                        artifact_uri  \\\n",
      "0  file:///C:/Users/DELL/Loan/309784749353829887/...   \n",
      "\n",
      "                        start_time                         end_time  \\\n",
      "0 2024-05-30 18:04:48.492000+00:00 2024-05-30 18:37:29.401000+00:00   \n",
      "\n",
      "   metrics.gbm_testing_score  metrics.rf_training_score  \\\n",
      "0                    0.88754                   0.877092   \n",
      "\n",
      "   metrics.gbm_training_score  metrics.rf_testing_score  ...  \\\n",
      "0                    0.893549                  0.877116  ...   \n",
      "\n",
      "  params.gbm_n_estimators params.gbm_minimum_samples_split  \\\n",
      "0                    3000                                5   \n",
      "\n",
      "  params.rf_max_depth                      tags.mlflow.log-model.history  \\\n",
      "0                   6  [{\"run_id\": \"7071dccbac1d406b93ac8052684fe394\"...   \n",
      "\n",
      "  tags.feature_set_version                            tags.mlflow.source.name  \\\n",
      "0             loan default  C:\\Users\\DELL\\anaconda3\\Lib\\site-packages\\ipyk...   \n",
      "\n",
      "  tags.mlflow.user tags.iteration_name tags.mlflow.source.type  \\\n",
      "0             DELL  test_rf_gb_sklearn                   LOCAL   \n",
      "\n",
      "  tags.mlflow.runName  \n",
      "0  victorious-worm-42  \n",
      "\n",
      "[1 rows x 23 columns]\n"
     ]
    }
   ],
   "source": [
    "import mlflow\n",
    "\n",
    "all_runs = mlflow.search_runs(search_all_experiments=True)\n",
    "print(all_runs)"
   ]
  },
  {
   "cell_type": "code",
   "execution_count": null,
   "id": "478332a3-39f7-4563-babf-9b020a36be09",
   "metadata": {},
   "outputs": [],
   "source": [
    "!mlflow models serve -p 8002 -m runs:/7071dccbac1d406b93ac8052684fe394/random-forest-model  --no-conda"
   ]
  },
  {
   "cell_type": "code",
   "execution_count": null,
   "id": "20463d70-4c6c-4f56-9a09-07d0bbaf0845",
   "metadata": {},
   "outputs": [],
   "source": []
  }
 ],
 "metadata": {
  "kernelspec": {
   "display_name": "Python 3 (ipykernel)",
   "language": "python",
   "name": "python3"
  },
  "language_info": {
   "codemirror_mode": {
    "name": "ipython",
    "version": 3
   },
   "file_extension": ".py",
   "mimetype": "text/x-python",
   "name": "python",
   "nbconvert_exporter": "python",
   "pygments_lexer": "ipython3",
   "version": "3.11.7"
  }
 },
 "nbformat": 4,
 "nbformat_minor": 5
}
